{
  "nbformat": 4,
  "nbformat_minor": 0,
  "metadata": {
    "colab": {
      "name": "Function Notebook",
      "provenance": [],
      "collapsed_sections": [],
      "authorship_tag": "ABX9TyNDd6T/cTepaQwvzOLmEN+r",
      "include_colab_link": true
    },
    "kernelspec": {
      "name": "python3",
      "display_name": "Python 3"
    }
  },
  "cells": [
    {
      "cell_type": "markdown",
      "metadata": {
        "id": "view-in-github",
        "colab_type": "text"
      },
      "source": [
        "<a href=\"https://colab.research.google.com/github/DanOley/mesa/blob/master/Function_Notebook.ipynb\" target=\"_parent\"><img src=\"https://colab.research.google.com/assets/colab-badge.svg\" alt=\"Open In Colab\"/></a>"
      ]
    },
    {
      "cell_type": "code",
      "metadata": {
        "id": "Jrzm6f4NBJbx"
      },
      "source": [
        "import pandas as pd\n",
        "import numpy as np\n",
        "import matplotlib.pyplot as plt"
      ],
      "execution_count": 7,
      "outputs": []
    },
    {
      "cell_type": "markdown",
      "metadata": {
        "id": "QYY5PYGUk6fl"
      },
      "source": [
        "## How to do the t' test in Python"
      ]
    },
    {
      "cell_type": "markdown",
      "metadata": {
        "id": "SxtgTmBhf4wq"
      },
      "source": [
        "Below is a function to do the t' test. In the second page of your stats summary, it shows that t' test is \n",
        "$$t' = \\frac{\\bar{A}-\\bar{B}}{\\sqrt{\\delta A^2+ \\delta B^2}}$$\n",
        "\n",
        "$\\bar{A}$ and $\\bar{B}$ represents the mean of data set A and B respectively\n",
        "\n",
        "$\\delta A$ and $\\delta B$ represent the uncertainty of data set A and data set B. This uncertainty can either be the standard uncertainty or the total uncertainty. ($\\textit{Confused about the difference? Ask your TA!}$)\n",
        "Scroll further down about how to calculate the means, standard deviations, and standard uncertainties. \n"
      ]
    },
    {
      "cell_type": "code",
      "metadata": {
        "id": "PSCFypw0fN6O"
      },
      "source": [
        "def ttest(Amean, Bmean, delA, delB):\n",
        "  num = Amean - Bmean\n",
        "  denom = np.sqrt(delA**2+delB**2)\n",
        "  return num/denom"
      ],
      "execution_count": 8,
      "outputs": []
    },
    {
      "cell_type": "markdown",
      "metadata": {
        "id": "3ACYiJPcBpBJ"
      },
      "source": [
        "To run this function, plug in your values for each variable. For example, if you type \n",
        "__________________________________________________\n",
        "t1 = ttest(2, 3, 0.2, 0.3)\n",
        "\n",
        "t1 \n",
        "____________________________________________________\n",
        "into the cell below, it will give you a t' value for $\\bar{A}$ = 2, $\\bar{B}$ = 3, $\\delta A$ = 0.2 and $\\delta B$ = 0.3. "
      ]
    },
    {
      "cell_type": "code",
      "metadata": {
        "id": "PuNPY-1Sf3Lw",
        "outputId": "bdee7b48-a2b3-4501-efd8-503696ebaf4d",
        "colab": {
          "base_uri": "https://localhost:8080/",
          "height": 34
        }
      },
      "source": [
        "t1 = ttest(2, 3, 0.2, 0.3)\n",
        "t1"
      ],
      "execution_count": 9,
      "outputs": [
        {
          "output_type": "execute_result",
          "data": {
            "text/plain": [
              "-2.7735009811261455"
            ]
          },
          "metadata": {
            "tags": []
          },
          "execution_count": 9
        }
      ]
    },
    {
      "cell_type": "markdown",
      "metadata": {
        "id": "KyEZlJ_dkj3O"
      },
      "source": [
        "If you get a negative number for t', don't worry. T' is meant to be an absolute value so -1.5 and 1.5 represent the same idea. "
      ]
    },
    {
      "cell_type": "markdown",
      "metadata": {
        "id": "h2s62hNYk1jE"
      },
      "source": [
        "#### How to calculate Means in python"
      ]
    },
    {
      "cell_type": "markdown",
      "metadata": {
        "id": "OCTW52o8k-W0"
      },
      "source": [
        "Good news! Python already has a function to allow you to find the mean! Try writing ave1 = np.average(sample_data) and then finding ave1! (The coding notebook you previously worked on also has some review about means and standard deviations)"
      ]
    },
    {
      "cell_type": "code",
      "metadata": {
        "id": "Fb4-E5dGj0x3",
        "outputId": "4691dfe4-51e2-4a43-a61d-5485841b6115",
        "colab": {
          "base_uri": "https://localhost:8080/",
          "height": 34
        }
      },
      "source": [
        "sample_data = [0.1, 0.2, 0.3, 0.2, 1]\n"
      ],
      "execution_count": 11,
      "outputs": [
        {
          "output_type": "execute_result",
          "data": {
            "text/plain": [
              "0.36"
            ]
          },
          "metadata": {
            "tags": []
          },
          "execution_count": 11
        }
      ]
    },
    {
      "cell_type": "markdown",
      "metadata": {
        "id": "6JJA91abmYGt"
      },
      "source": [
        "#### How to calculate Standard Deviation in python\n",
        "More good news! Python also already has a function to allow to calculate the standard deviation! With the previous sample_data, try typing std1 = np.std(sample_data) and then finding std1"
      ]
    },
    {
      "cell_type": "code",
      "metadata": {
        "id": "ikhx-mSblKRa",
        "outputId": "95b82902-71bc-469e-c4d7-9aa33ba6b477",
        "colab": {
          "base_uri": "https://localhost:8080/",
          "height": 34
        }
      },
      "source": [
        ""
      ],
      "execution_count": 12,
      "outputs": [
        {
          "output_type": "execute_result",
          "data": {
            "text/plain": [
              "0.32619012860600183"
            ]
          },
          "metadata": {
            "tags": []
          },
          "execution_count": 12
        }
      ]
    },
    {
      "cell_type": "markdown",
      "metadata": {
        "id": "P9N_xt2Um2tz"
      },
      "source": [
        "#### How to calculate Standard Uncertainty in Python\n",
        "\n",
        "So python doesn't have a function to calculate the standard deviation, but this notebook will provide that, with an explantion of what each line does. \n",
        "\n",
        "$$ \\delta A = \\frac{\\sigma_A}{\\sqrt{N}}$$\n",
        "\n",
        "where $\\sigma_A$ is the standard deviation of data set A, and N is the total number of tests done. "
      ]
    },
    {
      "cell_type": "code",
      "metadata": {
        "id": "NeaiqeN2nca5"
      },
      "source": [
        "def stunc(dataset):\n",
        "  std = np.std(dataset) #find the standard deviation of the data set\n",
        "  N = len(dataset) #len() finds the length of any \"list\", which counts the number of values in it. In this case, that's the number of tests done. \n",
        "  return std/np.sqrt(N) #finally divide the standard deviation by the square root of N"
      ],
      "execution_count": 13,
      "outputs": []
    },
    {
      "cell_type": "markdown",
      "metadata": {
        "id": "PaCoh5EFoBsP"
      },
      "source": [
        "Try using this on that sample data set above! Write stunc(sample_data) to see what the standard uncertainty of that data set would be!"
      ]
    },
    {
      "cell_type": "code",
      "metadata": {
        "id": "BXvjDKUAoAvG",
        "outputId": "a9b15355-892f-453a-e1e3-8e282e9064cb",
        "colab": {
          "base_uri": "https://localhost:8080/",
          "height": 34
        }
      },
      "source": [
        ""
      ],
      "execution_count": 14,
      "outputs": [
        {
          "output_type": "execute_result",
          "data": {
            "text/plain": [
              "0.14587666023048376"
            ]
          },
          "metadata": {
            "tags": []
          },
          "execution_count": 14
        }
      ]
    },
    {
      "cell_type": "code",
      "metadata": {
        "id": "YcIW-bPLoKP5"
      },
      "source": [
        ""
      ],
      "execution_count": null,
      "outputs": []
    }
  ]
}